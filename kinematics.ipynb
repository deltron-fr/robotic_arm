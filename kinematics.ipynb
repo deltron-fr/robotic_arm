{
 "cells": [
  {
   "cell_type": "code",
   "execution_count": 1,
   "id": "18eb87eb-36b2-4ac1-ab92-cdf32822d3ac",
   "metadata": {},
   "outputs": [],
   "source": [
    "import numpy as np\n",
    "import matplotlib.pyplot as plt"
   ]
  },
  {
   "cell_type": "code",
   "execution_count": 9,
   "id": "847f279c-f1ae-4782-9e05-f7f97e61dc73",
   "metadata": {},
   "outputs": [
    {
     "data": {
      "text/plain": [
       "0.0"
      ]
     },
     "execution_count": 9,
     "metadata": {},
     "output_type": "execute_result"
    }
   ],
   "source": [
    "# Define link lengths for 6 DoF\n",
    "a1, a2, a3, a4, a5, a6 = (0.0, 0.0, 0.07, 0.07, 0.07, 0.0)\n",
    "a2"
   ]
  },
  {
   "cell_type": "code",
   "execution_count": 3,
   "id": "352e9b22-00c7-4920-b8b3-b98d10f0a6ac",
   "metadata": {},
   "outputs": [],
   "source": [
    "def dh_transformation_matrix(theta, a,d, alpha):\n",
    "    cos_theta, cos_alpha = np.cos(theta), np.cos(alpha)\n",
    "    sine_theta, sine_alpha = np.sin(theta), np.sin(alpha)\n",
    "\n",
    "    matrix = np.array(\n",
    "        [\n",
    "            [cos_theta, -sin_theta*cos_alpha, sine_theta*sine_alpha, a*cos_theta],\n",
    "            [sine_theta, cos_theta*cos_alpha, -cos_theta*sine_alpha, a*sin_theta],\n",
    "            [0, sine_alpha, cos_alpha, d],\n",
    "            [0, 0, 0, 1]\n",
    "        ]\n",
    "    )\n",
    "\n",
    "    return matrix"
   ]
  },
  {
   "cell_type": "code",
   "execution_count": 4,
   "id": "e1268373-4f4d-4638-9086-0aab532e9f78",
   "metadata": {},
   "outputs": [],
   "source": [
    "def forward_kinematics(thetas):\n",
    "    T1 = dh_transformation_matrix(thetas[0], a1, 0, 90)\n",
    "    T2 = dh_transformation_matrix(thetas[1], a2, 0, 0)\n",
    "    T3 = dh_transformation_matrix(thetas[2], a3, 0, 0)\n",
    "    T4 = dh_transformation_matrix(thetas[3], a4, 0, 90)\n",
    "    T5 = dh_transformation_matrix(thetas[4], a5, 0, 0)\n",
    "    T6 = dh_transformation_matrix(thetas[5], a6, 0, -90)\n",
    "\n",
    "    T = np.matmul(T1, T2, T3, T4, T5, T6)\n",
    "    return T"
   ]
  },
  {
   "cell_type": "code",
   "execution_count": null,
   "id": "11a5f4cc-0f7b-484d-be88-a93caa30cac1",
   "metadata": {},
   "outputs": [],
   "source": []
  }
 ],
 "metadata": {
  "kernelspec": {
   "display_name": "Python 3 (ipykernel)",
   "language": "python",
   "name": "python3"
  },
  "language_info": {
   "codemirror_mode": {
    "name": "ipython",
    "version": 3
   },
   "file_extension": ".py",
   "mimetype": "text/x-python",
   "name": "python",
   "nbconvert_exporter": "python",
   "pygments_lexer": "ipython3",
   "version": "3.12.4"
  }
 },
 "nbformat": 4,
 "nbformat_minor": 5
}
