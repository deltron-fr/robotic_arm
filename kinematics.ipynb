{
 "cells": [
  {
   "cell_type": "code",
   "execution_count": 65,
   "id": "18eb87eb-36b2-4ac1-ab92-cdf32822d3ac",
   "metadata": {},
   "outputs": [],
   "source": [
    "import numpy as np\n",
    "import matplotlib.pyplot as plt"
   ]
  },
  {
   "cell_type": "code",
   "execution_count": 66,
   "id": "847f279c-f1ae-4782-9e05-f7f97e61dc73",
   "metadata": {},
   "outputs": [
    {
     "data": {
      "text/plain": [
       "0.0"
      ]
     },
     "execution_count": 66,
     "metadata": {},
     "output_type": "execute_result"
    }
   ],
   "source": [
    "# Define link lengths for 6 DoF\n",
    "a1, a2, a3, a4, a5, a6 = (0.0, 0.0, 0.07, 0.07, 0.07, 0.0)\n",
    "a2"
   ]
  },
  {
   "cell_type": "code",
   "execution_count": 67,
   "id": "352e9b22-00c7-4920-b8b3-b98d10f0a6ac",
   "metadata": {},
   "outputs": [],
   "source": [
    "def dh_transformation_matrix(theta, a,d, alpha):\n",
    "    cos_theta, cos_alpha = np.cos(theta), np.cos(alpha)\n",
    "    sine_theta, sine_alpha = np.sin(theta), np.sin(alpha)\n",
    "\n",
    "    matrix = np.array(\n",
    "        [\n",
    "            [cos_theta, -sine_theta*cos_alpha, sine_theta*sine_alpha, a*cos_theta],\n",
    "            [sine_theta, cos_theta*cos_alpha, -cos_theta*sine_alpha, a*sine_theta],\n",
    "            [0, sine_alpha, cos_alpha, d],\n",
    "            [0, 0, 0, 1]\n",
    "        ]\n",
    "    )\n",
    "\n",
    "    return matrix"
   ]
  },
  {
   "cell_type": "code",
   "execution_count": 68,
   "id": "e1268373-4f4d-4638-9086-0aab532e9f78",
   "metadata": {},
   "outputs": [],
   "source": [
    "def forward_kinematics(thetas):\n",
    "    T1 = dh_transformation_matrix(thetas[0], a1, 0, 90)\n",
    "    T2 = dh_transformation_matrix(thetas[1], a2, 0, 0)\n",
    "    T3 = dh_transformation_matrix(thetas[2], a3, 0, 0)\n",
    "    T4 = dh_transformation_matrix(thetas[3], a4, 0, 90)\n",
    "    T5 = dh_transformation_matrix(thetas[4], a5, 0, 0)\n",
    "    T6 = dh_transformation_matrix(thetas[5], a6, 0, -90)\n",
    "\n",
    "    T_final = T1 @ T2 @ T3 @ T4 @ T5 @ T6\n",
    "    \n",
    "    return T_final"
   ]
  },
  {
   "cell_type": "code",
   "execution_count": 69,
   "id": "11a5f4cc-0f7b-484d-be88-a93caa30cac1",
   "metadata": {},
   "outputs": [],
   "source": [
    "# !pip install ikpy"
   ]
  },
  {
   "cell_type": "code",
   "execution_count": 70,
   "id": "eda9aa4a-af1a-44d1-ac84-4d1c9e699eb4",
   "metadata": {},
   "outputs": [
    {
     "name": "stdout",
     "output_type": "stream",
     "text": [
      "Joint angles: [ 0.          1.10714407  1.9913497  -0.7854249   1.57080495  0.\n",
      "  0.        ]\n",
      "End-effector pose:\n",
      "[[-0.89442496 -0.15957421  0.41777993  0.0689919 ]\n",
      " [-0.00001101 -0.93416713 -0.35683578  0.06899191]\n",
      " [ 0.44721807 -0.31916743  0.83554064  0.13798379]\n",
      " [ 0.          0.          0.          1.        ]]\n"
     ]
    }
   ],
   "source": [
    "from ikpy.chain import Chain\n",
    "\n",
    "my_chain = Chain.from_urdf_file(\"robot.urdf\")\n",
    "\n",
    "target_position = [0.1, 0.1, 0.2]\n",
    "\n",
    "joint_angles = my_chain.inverse_kinematics(target_position)\n",
    "\n",
    "print(\"Joint angles:\", joint_angles)\n",
    "\n",
    "print(\"End-effector pose:\")\n",
    "print(my_chain.forward_kinematics(joint_angles))\n"
   ]
  },
  {
   "cell_type": "code",
   "execution_count": 71,
   "id": "d86bf551-790b-4a27-8dd3-ca6017b4343d",
   "metadata": {},
   "outputs": [
    {
     "name": "stdout",
     "output_type": "stream",
     "text": [
      "[[ 0.33020665 -0.89186055  0.30910892 -0.09413804]\n",
      " [-0.93494053 -0.26399954  0.23704523 -0.08991128]\n",
      " [-0.12980668 -0.36727237 -0.92101098  0.03972699]\n",
      " [ 0.          0.          0.          1.        ]]\n",
      "[[-0.89442496 -0.15957421  0.41777993  0.0689919 ]\n",
      " [-0.00001101 -0.93416713 -0.35683578  0.06899191]\n",
      " [ 0.44721807 -0.31916743  0.83554064  0.13798379]\n",
      " [ 0.          0.          0.          1.        ]]\n"
     ]
    }
   ],
   "source": [
    "np.set_printoptions(suppress=True, precision=10)\n",
    "fk_ikpy = my_chain.forward_kinematics(joint_angles)\n",
    "thetas = list(joint_angles)\n",
    "print(forward_kinematics(thetas))\n",
    "print(fk_ikpy)"
   ]
  },
  {
   "cell_type": "code",
   "execution_count": null,
   "id": "49930ce6-34aa-442c-b79b-cb4aa041a397",
   "metadata": {},
   "outputs": [],
   "source": [
    "x = fk_ipy[0]"
   ]
  }
 ],
 "metadata": {
  "kernelspec": {
   "display_name": "Python 3 (ipykernel)",
   "language": "python",
   "name": "python3"
  },
  "language_info": {
   "codemirror_mode": {
    "name": "ipython",
    "version": 3
   },
   "file_extension": ".py",
   "mimetype": "text/x-python",
   "name": "python",
   "nbconvert_exporter": "python",
   "pygments_lexer": "ipython3",
   "version": "3.12.4"
  }
 },
 "nbformat": 4,
 "nbformat_minor": 5
}
